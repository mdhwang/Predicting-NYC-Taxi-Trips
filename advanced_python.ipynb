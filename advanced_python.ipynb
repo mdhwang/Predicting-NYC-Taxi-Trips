{
  "cells": [
    {
      "metadata": {
        "collapsed": true
      },
      "cell_type": "markdown",
      "source": "# Case Study 6.1 - NYC Taxi Trips"
    },
    {
      "metadata": {},
      "cell_type": "markdown",
      "source": "<h1 style=\"color:red;\">Note: If you close this notebook at any time, you will have to run all cells again upon re-opening it.</h1>\n\n<h1 style=\"color:red;\">Note: You may get different numerical results running the notebook different times. This is to be expected, you can just report whatever results you get.</h1>"
    },
    {
      "metadata": {},
      "cell_type": "markdown",
      "source": "# ADVANCED PYTHON"
    },
    {
      "metadata": {},
      "cell_type": "markdown",
      "source": "As this is an advanced version, we don't include a lot of code here. If you get stuck on a particular part, feel free to also use the beginner version in `beginnner_python.ipynb` to help you out.\n\nIf you don't know your MITx username, you can create a test post [here](https://courses.xpro.mit.edu/courses/course-v1:xPRO+DSx+R11/discussion/forum/general/threads/5db91a5c59a54c4eb6000031) to find it."
    },
    {
      "metadata": {},
      "cell_type": "markdown",
      "source": "# Identification Information"
    },
    {
      "metadata": {
        "trusted": true
      },
      "cell_type": "code",
      "source": "# YOUR NAME              = ...\n# YOUR MITX PRO USERNAME = ...\n# YOUR MITX PRO E-MAIL   = ...",
      "execution_count": null,
      "outputs": []
    },
    {
      "metadata": {},
      "cell_type": "markdown",
      "source": "# Setup"
    },
    {
      "metadata": {},
      "cell_type": "markdown",
      "source": "Run these cells to install all the packages you need to complete the remainder of the case study. This may take a few minutes, so please be patient.\n\n<h1 style=\"color:red;\">Note: You may see red errors when you run the cell below. As long as you can run the Import cell below and see \"Import successful!\", you can continue with the case study.</h1>"
    },
    {
      "metadata": {
        "trusted": true
      },
      "cell_type": "code",
      "source": "!pip install --upgrade pip\n!pip install featuretools==0.1.19\n!pip install pandas==0.20.3",
      "execution_count": null,
      "outputs": []
    },
    {
      "metadata": {},
      "cell_type": "markdown",
      "source": "# Import"
    },
    {
      "metadata": {
        "trusted": true
      },
      "cell_type": "code",
      "source": "import featuretools as ft\nimport matplotlib\nimport numpy as np\nimport pandas as pd\nimport utils\nfrom featuretools.primitives import (Count, Day, Hour, Max, Mean, Median, Min,\n                                     Minute, Month, Std, Sum, Week, Weekday,\n                                     Weekend)\nfrom sklearn.ensemble import GradientBoostingRegressor\nfrom utils import (compute_features, feature_importances, load_nyc_taxi_data,\n                   preview)",
      "execution_count": null,
      "outputs": []
    },
    {
      "metadata": {
        "trusted": true
      },
      "cell_type": "code",
      "source": "%matplotlib inline",
      "execution_count": null,
      "outputs": []
    },
    {
      "metadata": {},
      "cell_type": "markdown",
      "source": "# Data"
    },
    {
      "metadata": {},
      "cell_type": "markdown",
      "source": "- Use `load_nyc_taxi_data` to get the data.\n- Use `preview` to preview the data.\n- Create a histogram of the `trip_duration` column of the `trips` table."
    },
    {
      "metadata": {
        "trusted": true
      },
      "cell_type": "code",
      "source": "# Your code here to load, preview and visualize data",
      "execution_count": null,
      "outputs": []
    },
    {
      "metadata": {},
      "cell_type": "markdown",
      "source": "<h1 style=\"color:red;\">QUESTION 1: DATA ANALYSIS</h1>"
    },
    {
      "metadata": {},
      "cell_type": "markdown",
      "source": "**Describe the dataset. How many trips are in the dataset? How would you describe the distribution of trip durations? Is there anything else we should observe? Make sure the histogram is visible in the notebook.**"
    },
    {
      "metadata": {},
      "cell_type": "markdown",
      "source": "*Type your response here...*"
    },
    {
      "metadata": {},
      "cell_type": "markdown",
      "source": "# Entities and Relationships"
    },
    {
      "metadata": {},
      "cell_type": "markdown",
      "source": "Construct a dictionary of entities and relationships. You can read about the format of these objects [`here`](https://docs.featuretools.com/en/stable/generated/featuretools.dfs.html)."
    },
    {
      "metadata": {
        "trusted": true
      },
      "cell_type": "code",
      "source": "# Construct entities and relationships dicts",
      "execution_count": null,
      "outputs": []
    },
    {
      "metadata": {},
      "cell_type": "markdown",
      "source": "# Transform Primitives"
    },
    {
      "metadata": {
        "trusted": true
      },
      "cell_type": "code",
      "source": "# Make list of transform primtivies that only contains the Weekend object from above",
      "execution_count": null,
      "outputs": []
    },
    {
      "metadata": {
        "trusted": true
      },
      "cell_type": "code",
      "source": "# Then, use featuretools.dfs to get the features\n# See https://docs.featuretools.com/generated/featuretools.dfs.html\n# target entity should match name for trips entity in your entities dictionary\n# no agg_primitives yet\n# ignore the lat/long for dropoff and pickup",
      "execution_count": null,
      "outputs": []
    },
    {
      "metadata": {
        "trusted": true
      },
      "cell_type": "code",
      "source": "# Print out the features you just made",
      "execution_count": null,
      "outputs": []
    },
    {
      "metadata": {
        "trusted": true
      },
      "cell_type": "code",
      "source": "# Use compute_features to get the feature matrix from the list of features you just made",
      "execution_count": null,
      "outputs": []
    },
    {
      "metadata": {},
      "cell_type": "markdown",
      "source": "# First Model"
    },
    {
      "metadata": {
        "trusted": true
      },
      "cell_type": "code",
      "source": "# Split feature matrix (75% train, 25% test) using utils.train_test_fm\n# Pass in features, trips dataframe, and fraction train (0.75)",
      "execution_count": null,
      "outputs": []
    },
    {
      "metadata": {
        "trusted": true
      },
      "cell_type": "code",
      "source": "# Use np.log(x + 1) to take the log of a particular vector x - this helps create a more linear relationship",
      "execution_count": null,
      "outputs": []
    },
    {
      "metadata": {
        "trusted": true
      },
      "cell_type": "code",
      "source": "# Then, create a GradientBoostingRegressor\n# Fit to training\n# Score on testing",
      "execution_count": null,
      "outputs": []
    },
    {
      "metadata": {},
      "cell_type": "markdown",
      "source": "<h1 style=\"color:red;\">QUESTION 2: FIRST MODEL</h1>"
    },
    {
      "metadata": {},
      "cell_type": "markdown",
      "source": "**Describe all the features that we added to the model. Do you think these improved the performance from a model that did not have these features? Why?**"
    },
    {
      "metadata": {},
      "cell_type": "markdown",
      "source": "*Type your response here...*"
    },
    {
      "metadata": {},
      "cell_type": "markdown",
      "source": "# More Transform Primitives"
    },
    {
      "metadata": {
        "trusted": true
      },
      "cell_type": "code",
      "source": "# Make list of transform primtivies that contain new primitives described in the instruction manual",
      "execution_count": null,
      "outputs": []
    },
    {
      "metadata": {
        "trusted": true
      },
      "cell_type": "code",
      "source": "# Compute features",
      "execution_count": null,
      "outputs": []
    },
    {
      "metadata": {
        "trusted": true
      },
      "cell_type": "code",
      "source": "# Compute feature matrix",
      "execution_count": null,
      "outputs": []
    },
    {
      "metadata": {
        "trusted": true
      },
      "cell_type": "code",
      "source": "# Re-split feature matrix",
      "execution_count": null,
      "outputs": []
    },
    {
      "metadata": {
        "trusted": true
      },
      "cell_type": "code",
      "source": "# Train and score NEW model",
      "execution_count": null,
      "outputs": []
    },
    {
      "metadata": {},
      "cell_type": "markdown",
      "source": "<h1 style=\"color:red;\">QUESTION 3: SECOND MODEL</h1>"
    },
    {
      "metadata": {},
      "cell_type": "markdown",
      "source": "**Describe the rest of the new features that we just added to the model. How did this affect performance? Did we have to sacrifice training time?**"
    },
    {
      "metadata": {},
      "cell_type": "markdown",
      "source": "*Type your response here...*"
    },
    {
      "metadata": {},
      "cell_type": "markdown",
      "source": "# Aggregation Primitives"
    },
    {
      "metadata": {
        "trusted": true
      },
      "cell_type": "code",
      "source": "# Make list of transform primtivies that are the same as above\n# Make a list of aggregation primitives containing Count, Sum, Mean, Median, Std, Max, Min",
      "execution_count": null,
      "outputs": []
    },
    {
      "metadata": {
        "trusted": true
      },
      "cell_type": "code",
      "source": "# Compute features",
      "execution_count": null,
      "outputs": []
    },
    {
      "metadata": {
        "trusted": true
      },
      "cell_type": "code",
      "source": "# Compute feature matrix",
      "execution_count": null,
      "outputs": []
    },
    {
      "metadata": {
        "trusted": true
      },
      "cell_type": "code",
      "source": "# Re-split feature matrix",
      "execution_count": null,
      "outputs": []
    },
    {
      "metadata": {
        "trusted": true
      },
      "cell_type": "code",
      "source": "# Train and score NEW model",
      "execution_count": null,
      "outputs": []
    },
    {
      "metadata": {},
      "cell_type": "markdown",
      "source": "# Evaluate on Test Data"
    },
    {
      "metadata": {
        "trusted": true
      },
      "cell_type": "code",
      "source": "# Use .predict() function on your latest model to get y_pred from X_test",
      "execution_count": null,
      "outputs": []
    },
    {
      "metadata": {
        "trusted": true
      },
      "cell_type": "code",
      "source": "# Print some of the predictions",
      "execution_count": null,
      "outputs": []
    },
    {
      "metadata": {
        "trusted": true
      },
      "cell_type": "code",
      "source": "# Create histogram of predictions",
      "execution_count": null,
      "outputs": []
    },
    {
      "metadata": {},
      "cell_type": "markdown",
      "source": "<h1 style=\"color:red;\">QUESTION 4: MODEL PREDICTIONS</h1>"
    },
    {
      "metadata": {},
      "cell_type": "markdown",
      "source": "**Analyze the model predictions. Does the output distribution match the one you made earlier in the case study? What other features/strategies could we use to make our model even better, if we had more time?**"
    },
    {
      "metadata": {},
      "cell_type": "markdown",
      "source": "*Type your response here...*"
    },
    {
      "metadata": {},
      "cell_type": "markdown",
      "source": "# Feature Importance"
    },
    {
      "metadata": {
        "trusted": true
      },
      "cell_type": "code",
      "source": "# Compute feature importance of model\n# You can use the feature_importances function we defined for you\n# Or, see the feature_importances_ attribute of our model\n# http://scikit-learn.org/stable/modules/generated/sklearn.ensemble.GradientBoostingRegressor.html",
      "execution_count": null,
      "outputs": []
    },
    {
      "metadata": {},
      "cell_type": "markdown",
      "source": "<h1 style=\"color:red;\">QUESTION 5: FEATURE IMPORTANCE</h1>"
    },
    {
      "metadata": {},
      "cell_type": "markdown",
      "source": "**Analyze the feature importance values you just computed above. Do they make sense? Are there any values you are surprised by? Give some brief explanations as to why these features are relevant in computing the `trip_duration` target variable.**"
    },
    {
      "metadata": {},
      "cell_type": "markdown",
      "source": "*Type your response here...*"
    },
    {
      "metadata": {},
      "cell_type": "markdown",
      "source": "<hr>"
    },
    {
      "metadata": {},
      "cell_type": "markdown",
      "source": "Great job! Now, make sure you check out the **Conclusion** section of the [instruction manual](https://courses.edx.org/asset-v1:MITxPRO+DSx+2T2018+type@asset+block@6.1_instruction_manual.html) to wrap up this case study properly."
    }
  ],
  "metadata": {
    "kernelspec": {
      "name": "python36",
      "display_name": "Python 3.6",
      "language": "python"
    },
    "language_info": {
      "mimetype": "text/x-python",
      "nbconvert_exporter": "python",
      "name": "python",
      "pygments_lexer": "ipython3",
      "version": "3.6.6",
      "file_extension": ".py",
      "codemirror_mode": {
        "version": 3,
        "name": "ipython"
      }
    }
  },
  "nbformat": 4,
  "nbformat_minor": 2
}